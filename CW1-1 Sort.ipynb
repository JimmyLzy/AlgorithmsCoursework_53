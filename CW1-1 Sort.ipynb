{
 "cells": [
  {
   "cell_type": "markdown",
   "metadata": {},
   "source": [
    "# Algorithms 202: Coursework 1 Task 1: Sorting"
   ]
  },
  {
   "cell_type": "markdown",
   "metadata": {},
   "source": [
    "Group-ID: 53"
   ]
  },
  {
   "cell_type": "markdown",
   "metadata": {},
   "source": [
    "Group members: zl4214 - Ziyang Liu jw6914 - Jiaying Wang cmc214 - Chai Cheng"
   ]
  },
  {
   "cell_type": "markdown",
   "metadata": {},
   "source": [
    "# Objectives"
   ]
  },
  {
   "cell_type": "markdown",
   "metadata": {},
   "source": [
    "The aim of this coursework is to enhance your algorithmic skills by mastering the divide and conquer and dynamic programming strategies. You are asked to show that you can:\n",
    "\n",
    "- implement divide and conquer solutions for given problems\n",
    "- compare naive and advanced implementations of algorithms solving the same problem\n",
    "\n",
    "This notebook *is* the coursework. It contains cells with function definitions that you will need to complete. You will submit this notebook as your coursework.\n",
    "\n",
    "The comparisons of different algorithms involve textual descriptions and graphical plots. For graphing you will be using [matplotlib](http://matplotlib.org/index.html) to generate plots. [This tutorial](http://matplotlib.org/index.html) will be useful to go through to get you up to speed. For the textual descriptions you may wish to use [LaTeX](http://en.wikipedia.org/wiki/LaTeX) inline like $\\mathcal{O}(n\\log{}n)$. Double click this cell to reveal the required markup - and [see here](http://texblog.org/2014/06/24/big-o-and-related-notations-in-latex/) for useful guidance on producing common symbols used in asymptotic run time analysis."
   ]
  },
  {
   "cell_type": "markdown",
   "metadata": {},
   "source": [
    "# Preliminaries: helper functions"
   ]
  },
  {
   "cell_type": "markdown",
   "metadata": {},
   "source": [
    "Here we define a collection of functions that will be useful for the rest of the coursework. You'll need to run this cell to get started."
   ]
  },
  {
   "cell_type": "code",
   "execution_count": 57,
   "metadata": {
    "collapsed": false
   },
   "outputs": [],
   "source": [
    "# so our plots get drawn in the notebook\n",
    "%matplotlib inline\n",
    "from matplotlib import pyplot as plt\n",
    "from random import randint\n",
    "from time import clock\n",
    "\n",
    "# a timer - runs the provided function and reports the\n",
    "# run time in ms\n",
    "def time_f(f):\n",
    "    before = clock()\n",
    "    f()\n",
    "    after = clock()\n",
    "    return after - before\n",
    "\n",
    "# remember - lambdas are just one line functions\n",
    "\n",
    "# make us a random list length (between 1 - 2000)\n",
    "rand_len = lambda max_len=2e3: randint(1, max_len)\n",
    "\n",
    "# choose a random value for a list element (between 0 1e6)\n",
    "rand_int = lambda: randint(0, 1e6)\n",
    "\n",
    "# generate a random list of random length -\n",
    "# here we use a list comprehension, a very tidy\n",
    "# way of transforming lists of data\n",
    "rand_list = lambda max_len=2e3: [rand_int() \n",
    "                                 for i in range(rand_len(max_len=max_len))]"
   ]
  },
  {
   "cell_type": "markdown",
   "metadata": {},
   "source": [
    "## Task 1: Sorting"
   ]
  },
  {
   "cell_type": "markdown",
   "metadata": {},
   "source": [
    "In this task you are asked to implement `insertion_sort` and `merge_sort`. You need to perform an experimental analysis of their running time. Based on your analysis, you should implement a third sorting algorithm, `hybrid_sort`, which is similar to `merge_sort` but uses `insertion_sort` for the base case. The problem size for which the base case is invoked has to be inferred from the running time analysis."
   ]
  },
  {
   "cell_type": "markdown",
   "metadata": {},
   "source": [
    "### 1a. Implement `insertion_sort`"
   ]
  },
  {
   "cell_type": "markdown",
   "metadata": {},
   "source": [
    "Complete the below definition for `insertion_sort`. Do not change the name of the function or it's arguments. \n",
    "\n",
    "\n",
    "Hints:\n",
    "\n",
    "- Your sort should be in-place (i.e. it changes the input list for the caller) but you should also return the list so the function can be called as indicated below."
   ]
  },
  {
   "cell_type": "code",
   "execution_count": 58,
   "metadata": {
    "collapsed": false
   },
   "outputs": [],
   "source": [
    "def insertion_sort(a):\n",
    "    for j in range(1, len(a)):\n",
    "        key = a[j]\n",
    "        i = j - 1\n",
    "        while i >= 0 and a[i] > key:\n",
    "            a[i + 1] = a[i]\n",
    "            i = i - 1\n",
    "        a[i + 1] = key\n",
    "    return a"
   ]
  },
  {
   "cell_type": "markdown",
   "metadata": {},
   "source": [
    "Use this test to confirm your implementation is correct."
   ]
  },
  {
   "cell_type": "code",
   "execution_count": 59,
   "metadata": {
    "collapsed": false,
    "scrolled": true
   },
   "outputs": [
    {
     "name": "stdout",
     "output_type": "stream",
     "text": [
      "True\n"
     ]
    }
   ],
   "source": [
    "x = [2, 4, 1, 3]\n",
    "print(insertion_sort(x) == [1, 2, 3, 4])"
   ]
  },
  {
   "cell_type": "markdown",
   "metadata": {},
   "source": [
    "### 1b. Implement `merge_sort`"
   ]
  },
  {
   "cell_type": "markdown",
   "metadata": {},
   "source": [
    "Complete the below definition for `merge_sort`. Do not change the name of the function or it's arguments.\n",
    "\n",
    "Hints:\n",
    "\n",
    "- Your implementation should leave the input list unmodified for the caller\n",
    "- You are free to define other functions in this cell"
   ]
  },
  {
   "cell_type": "code",
   "execution_count": 60,
   "metadata": {
    "collapsed": false
   },
   "outputs": [],
   "source": [
    "import math\n",
    "\n",
    "\n",
    "def merge_sort(a):\n",
    "    return merge_sort_help(a, 0, len(a) - 1)\n",
    "\n",
    "\n",
    "def merge_sort_help(a, first, last):\n",
    "    if first < last:\n",
    "        mid = math.floor((first + last) / 2)\n",
    "        merge_sort_help(a, first, mid)\n",
    "        merge_sort_help(a, mid + 1, last)\n",
    "        merge(a, first, mid, last)\n",
    "    return a\n",
    "\n",
    "def merge(a, first, mid, last):\n",
    "    n1 = mid - first + 1\n",
    "    n2 = last - mid\n",
    "    l = []\n",
    "    r = []\n",
    "    for i in range(0, n1):\n",
    "        l.append(a[first + i])\n",
    "    for j in range(0, n2):\n",
    "        r.append(a[mid + j + 1])\n",
    "    l.append(float(\"inf\"))\n",
    "    r.append(float(\"inf\"))\n",
    "    i = 0\n",
    "    j = 0\n",
    "    for k in range(first, last + 1):\n",
    "        if l[i] <= r[j]:\n",
    "            a[k] = l[i]\n",
    "            i = i + 1\n",
    "        else:\n",
    "            a[k] = r[j]\n",
    "            j = j + 1"
   ]
  },
  {
   "cell_type": "markdown",
   "metadata": {},
   "source": [
    "Use this test to confirm your implementation is correct."
   ]
  },
  {
   "cell_type": "code",
   "execution_count": 61,
   "metadata": {
    "collapsed": false,
    "scrolled": true
   },
   "outputs": [
    {
     "name": "stdout",
     "output_type": "stream",
     "text": [
      "True\n"
     ]
    }
   ],
   "source": [
    "x = [2, 4, 1, 3]\n",
    "print(merge_sort(x) == [1, 2, 3, 4])"
   ]
  },
  {
   "cell_type": "markdown",
   "metadata": {},
   "source": [
    "### 1c. Analyse the running time performance of `insertion_sort` and `merge_sort`"
   ]
  },
  {
   "cell_type": "markdown",
   "metadata": {},
   "source": [
    "Draw a graph showing the run time performance of your `insertion_sort` and `merge_sort` for different lengths of random integers. Analyse the performance at the large scale ($n \\approx 10^3$) and small scale ($n \\approx 10$). To remove noisy measurements, you might want to repeat the analysis several times and estimate average performance for different $n$."
   ]
  },
  {
   "cell_type": "code",
   "execution_count": 62,
   "metadata": {
    "collapsed": false
   },
   "outputs": [
    {
     "data": {
      "text/plain": [
       "(0, 0.35000000000000003)"
      ]
     },
     "execution_count": 62,
     "metadata": {},
     "output_type": "execute_result"
    },
    {
     "data": {
      "image/png": "[encoded data removed]",
      "text/plain": [
       "<matplotlib.figure.Figure at 0x7fdd2cd4a710>"
      ]
     },
     "metadata": {},
     "output_type": "display_data"
    }
   ],
   "source": [
    "t_insertion = []\n",
    "n_insertion = []\n",
    "t_merge = []\n",
    "n_merge = []\n",
    "\n",
    "runTimes = 5\n",
    "#for i in range(runTimes):\n",
    "\n",
    "# build 100 lists to test\n",
    "random_lists_insertion = [rand_list() for i in range(100)]\n",
    "random_lists_merge = [rand_list() for i in range(100)]\n",
    "\n",
    "for r_list in random_lists_insertion:\n",
    "     #putting run time for insertion and merge and their lengths into the lists\n",
    "    t_insertion.append(time_f(lambda: insertion_sort(r_list)))\n",
    "    n_insertion.append(len(r_list))\n",
    "for r_list in random_lists_merge:\n",
    "    t_merge.append(time_f(lambda: merge_sort(r_list)))\n",
    "    n_merge.append(len(r_list))\n",
    "    \n",
    "plt.scatter(n_insertion, t_insertion, color = 'red')\n",
    "plt.scatter(n_merge, t_merge, color = 'blue')\n",
    "plt.xlabel('n')\n",
    "plt.ylabel('time (/s)')\n",
    "plt.xlim(0) \n",
    "plt.ylim(0)\n",
    "\n",
    "\n",
    "\n",
    "    \n",
    "    \n"
   ]
  },
  {
   "cell_type": "markdown",
   "metadata": {},
   "source": [
    "**Now discuss your findings in a few lines in the below cell:**"
   ]
  },
  {
   "cell_type": "markdown",
   "metadata": {},
   "source": [
    "Insertion sort is in red and merge sort is in blue\n",
    "We found out that at n is approximately 10 the time taken for merge sort and insertion sort to complete is roughly the same.(CLOSE TO 0.01 S)\n",
    "As n increase the run time for insertion sort increase exponentially while the run  time for merge sort is increased linearly, when n is approximately 1000 the run time for merge sort is still around 0.005 s while run time for insertion sort is 0.04s."
   ]
  },
  {
   "cell_type": "markdown",
   "metadata": {},
   "source": [
    "### 1d. Implement `hybrid_sort()`"
   ]
  },
  {
   "cell_type": "markdown",
   "metadata": {},
   "source": [
    "Implement `hybrid_sort()`, a `merge_sort()` variant which uses `insertion_sort()` for the base case. The problem size for which the base case is invoked has to be inferred from your above running time analysis."
   ]
  },
  {
   "cell_type": "code",
   "execution_count": 151,
   "metadata": {
    "collapsed": false
   },
   "outputs": [],
   "source": [
    "def hybrid_sort(a):\n",
    "    # complete function without changing signature\n",
    "    return hybrid_sort_help(a, 0, len(a) - 1)\n",
    "\n",
    "def hybrid_sort_help(a, first, last):\n",
    "    size_for_base_case =10\n",
    "    \n",
    "    if first < last:\n",
    "        #check if we do insertion or merge sort\n",
    "        mid = math.floor((first + last) / 2)\n",
    "        \n",
    "        if last-first <= size_for_base_case:\n",
    "            \n",
    "            for j in range(first + 1, last + 1):\n",
    "                key = a[j]\n",
    "                i = j - 1\n",
    "                while i >= 0 and a[i] > key:\n",
    "                    a[i + 1] = a[i]\n",
    "                    i = i - 1\n",
    "                a[i + 1] = key\n",
    "\n",
    "        else:   \n",
    "            hybrid_sort_help(a, first, mid)\n",
    "            hybrid_sort_help(a, mid + 1, last)\n",
    "            merge(a, first, mid, last)\n",
    "    return a\n",
    "    pass\n",
    "          "
   ]
  },
  {
   "cell_type": "markdown",
   "metadata": {},
   "source": [
    "Use this test to confirm your implementation is correct."
   ]
  },
  {
   "cell_type": "code",
   "execution_count": 152,
   "metadata": {
    "collapsed": false
   },
   "outputs": [
    {
     "name": "stdout",
     "output_type": "stream",
     "text": [
      "True\n"
     ]
    }
   ],
   "source": [
    "x = [2, 4, 1, 3,]\n",
    "print(hybrid_sort(x) == [1, 2, 3, 4])"
   ]
  },
  {
   "cell_type": "markdown",
   "metadata": {},
   "source": [
    "### 1e. Analyse all three sorting implementations together"
   ]
  },
  {
   "cell_type": "markdown",
   "metadata": {},
   "source": [
    "Draw a graph showing the running time performance of your `insertion_sort()`, `merge_sort()` and `hybrid_sort()` for different lengths of random integers."
   ]
  },
  {
   "cell_type": "code",
   "execution_count": 153,
   "metadata": {
    "collapsed": false,
    "scrolled": true
   },
   "outputs": [
    {
     "data": {
      "text/plain": [
       "(0, 0.35000000000000003)"
      ]
     },
     "execution_count": 153,
     "metadata": {},
     "output_type": "execute_result"
    },
    {
     "data": {
      "image/png": "[encoded data removed]",
      "text/plain": [
       "<matplotlib.figure.Figure at 0x7fdd2cd11c88>"
      ]
     },
     "metadata": {},
     "output_type": "display_data"
    }
   ],
   "source": [
    "t_insertion = []\n",
    "n_insertion = []\n",
    "t_merge = []\n",
    "n_merge = []\n",
    "t_hybrid = []\n",
    "n_hybrid = []\n",
    "\n",
    "# build 100 lists to test\n",
    "random_lists_insertion = [rand_list() for i in range(100)]\n",
    "random_lists_merge = [rand_list() for i in range(100)]\n",
    "random_lists_hybrid = [rand_list() for i in range(100)]\n",
    "\n",
    "\n",
    "for r_list in random_lists_insertion:\n",
    "    #putting run time for insertion and merge and their lengths into the lists\n",
    "    t_insertion.append(time_f(lambda: insertion_sort(r_list)))\n",
    "    n_insertion.append(len(r_list))\n",
    "for r_list in random_lists_merge:\n",
    "    t_merge.append(time_f(lambda: merge_sort(r_list)))\n",
    "    n_merge.append(len(r_list))\n",
    "for r_list in random_lists_hybrid:\n",
    "    t_hybrid.append(time_f(lambda: hybrid_sort(r_list)))\n",
    "    n_hybrid.append(len(r_list))\n",
    "    \n",
    "plt.scatter(n_insertion, t_insertion, color = 'red')\n",
    "plt.scatter(n_merge, t_merge, color = 'blue')\n",
    "plt.scatter(n_hybrid, t_hybrid, color = 'orange')\n",
    "plt.xlabel('n')\n",
    "plt.ylabel('time (/s)')\n",
    "plt.xlim(0)\n",
    "plt.ylim(0)"
   ]
  },
  {
   "cell_type": "markdown",
   "metadata": {},
   "source": [
    "**Now discuss your findings in a few lines in the below cell:**"
   ]
  },
  {
   "cell_type": "markdown",
   "metadata": {},
   "source": [
    "Red is insertion sort.\n",
    "Blue is merge sort.\n",
    "orange is hybrid sort.\n",
    "\n",
    "We took the number n to be 4 when the hybrid sort use the base case (insertion sort)\n",
    "\n",
    "As shown in the graph the insertion sort still takes exponantial time as n increase, and merge sort is still linear as n increase as we didn't change their implementations\n",
    "\n",
    "Hybrid sort also take a linear time similar to merge sort.\n"
   ]
  },
  {
   "cell_type": "code",
   "execution_count": null,
   "metadata": {
    "collapsed": true
   },
   "outputs": [],
   "source": []
  }
 ],
 "metadata": {
  "kernelspec": {
   "display_name": "Python 3",
   "language": "python",
   "name": "python3"
  },
  "language_info": {
   "codemirror_mode": {
    "name": "ipython",
    "version": 3
   },
   "file_extension": ".py",
   "mimetype": "text/x-python",
   "name": "python",
   "nbconvert_exporter": "python",
   "pygments_lexer": "ipython3",
   "version": "3.4.4"
  }
 },
 "nbformat": 4,
 "nbformat_minor": 0
}
